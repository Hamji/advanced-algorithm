{
 "cells": [
  {
   "attachments": {
    "193c98a1-61bc-4e29-9831-e6dbe87d4db6.png": {
     "image/png": "[encoded data removed]"
    },
    "42c1ad08-bd1e-4c31-8d2b-7de057b1bd74.png": {
     "image/png": "[encoded data removed]"
    }
   },
   "cell_type": "markdown",
   "id": "2d9aaa6e-274f-41eb-9e40-5e5d7b2406f1",
   "metadata": {
    "tags": []
   },
   "source": [
    "# Concept  \n",
    "### Full-adder  \n",
    "![image.png](attachment:193c98a1-61bc-4e29-9831-e6dbe87d4db6.png)![image.png](attachment:42c1ad08-bd1e-4c31-8d2b-7de057b1bd74.png)\n",
    "\n"
   ]
  },
  {
   "cell_type": "code",
   "execution_count": null,
   "id": "4487c3a6-5264-48d5-b227-39ac49d42ceb",
   "metadata": {},
   "outputs": [],
   "source": []
  },
  {
   "cell_type": "code",
   "execution_count": 1,
   "id": "2f220d18-5c72-4762-b9a8-27d014dba6ff",
   "metadata": {},
   "outputs": [],
   "source": [
    "class Node:\n",
    "    def __init__(self, data, next=None):\n",
    "        self.data = data\n",
    "        self.next = next\n",
    "        \n",
    "class LinkedList:\n",
    "    def __init__(self):\n",
    "        self.head = None\n",
    "    \n",
    "    def add(self, data):\n",
    "        if self.head == None:\n",
    "            self.head = Node(data)\n",
    "        else:\n",
    "            node = self.head\n",
    "            while node.next:\n",
    "                node = node.next\n",
    "            node.next = Node(data)    \n",
    "\n",
    "        return self\n",
    "            \n",
    "    def __str__(self):\n",
    "        result = \"\"\n",
    "        curr = self.head\n",
    "        while curr != None:\n",
    "            result = str(curr.data) + result\n",
    "            curr = curr.next\n",
    "        return result\n"
   ]
  },
  {
   "cell_type": "code",
   "execution_count": 2,
   "id": "02f0eda7-2fc2-44b1-94ae-5911c8eba3cb",
   "metadata": {},
   "outputs": [],
   "source": [
    "def solve_ver1(a: LinkedList, b: LinkedList):\n",
    "    result_node = LinkedList()\n",
    "    \n",
    "    def adder(a: Node, b: Node, carry: int, node: LinkedList):\n",
    "        result = a.data + b.data + carry\n",
    "        next_carry = result > 9 and 1 or 0\n",
    "        adder(a.next, b.next, next_carry, result_node.add(result % 10))\n",
    "\n",
    "    start(a.head, b.head, 0, result_node)\n",
    "    return result_node\n"
   ]
  },
  {
   "cell_type": "code",
   "execution_count": 3,
   "id": "f77777dd-b780-4180-93e3-89f87c484f64",
   "metadata": {},
   "outputs": [],
   "source": [
    "def solve(a: LinkedList, b: LinkedList):\n",
    "    result_node = LinkedList()\n",
    "    \n",
    "    def adder(a: Node, b: Node, carry: int, node: LinkedList):\n",
    "        def getCarry():\n",
    "            a_data = a.data if a is not None else 0\n",
    "            b_data = b.data if b is not None else 0\n",
    "            return (a_data + b_data + carry > 9) and 1 or 0\n",
    "        \n",
    "        if a == None and b == None and carry == 0: \n",
    "            return result_node\n",
    "        elif a == None and b == None and carry == 1: \n",
    "            return adder(a, b, 0, result_node.add(carry))\n",
    "        elif a == None and b != None: \n",
    "            adder(a, b.next, getCarry(), result_node.add((b.data + carry) % 10))\n",
    "        elif a != None and b == None: \n",
    "            adder(a.next, b, getCarry(), result_node.add((a.data + carry) % 10))\n",
    "        else: \n",
    "            adder(a.next, b.next, getCarry() , result_node.add((a.data + b.data + carry) % 10))\n",
    "\n",
    "            \n",
    "    adder(a.head, b.head, 0, result_node)\n",
    "    return result_node\n"
   ]
  },
  {
   "cell_type": "code",
   "execution_count": 4,
   "id": "12f6d30c-1380-4fe8-932a-f1d39e27e5df",
   "metadata": {},
   "outputs": [],
   "source": [
    "import random\n",
    "for i in range(10000):\n",
    "    t_a = random.randint(1, 10000)\n",
    "    t_b = random.randint(1, 10000)\n",
    "    t_answer = t_a + t_b\n",
    "    \n",
    "    c_a = LinkedList()\n",
    "    for ch in reversed(str(t_a)):\n",
    "        c_a.add(int(ch))\n",
    "        \n",
    "    c_b = LinkedList()\n",
    "    for ch in reversed(str(t_b)):\n",
    "        c_b.add(int(ch))\n",
    "    \n",
    "    c_answer = str(solve(c_a, c_b))\n",
    "    if int(c_answer) != int(t_answer): # if wrong\n",
    "        print(\"[Expected] %d + %d = %d\" % (t_a, t_b, t_answer))\n",
    "        print(\"[Result  ] %s + %s = %s\" % (c_a, c_b, c_answer))\n",
    "    "
   ]
  },
  {
   "cell_type": "code",
   "execution_count": null,
   "id": "096a9416-69bf-4a80-8a53-16490928ab3a",
   "metadata": {},
   "outputs": [],
   "source": []
  }
 ],
 "metadata": {
  "kernelspec": {
   "display_name": "Python 3",
   "language": "python",
   "name": "python3"
  },
  "language_info": {
   "codemirror_mode": {
    "name": "ipython",
    "version": 3
   },
   "file_extension": ".py",
   "mimetype": "text/x-python",
   "name": "python",
   "nbconvert_exporter": "python",
   "pygments_lexer": "ipython3",
   "version": "3.9.6"
  }
 },
 "nbformat": 4,
 "nbformat_minor": 5
}
