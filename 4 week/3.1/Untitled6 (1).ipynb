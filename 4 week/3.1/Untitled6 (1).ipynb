{
 "cells": [
  {
   "cell_type": "code",
   "execution_count": 1,
   "metadata": {},
   "outputs": [
    {
     "name": "stdout",
     "output_type": "stream",
     "text": [
      "[[0, 0, 0, 0, 0, 0, 0, 0, 0, 0], [0, 0, 0, 0, 0, 0, 0, 0, 0, 0], [0, 0, 0, 0, 0, 0, 0, 0, 0, 0]]\n"
     ]
    }
   ],
   "source": [
    "stack = [[0 for col in range(10)] for row in range(3)]\n",
    "stack_pointer = [-1, -1 ,-1]\n",
    "\n",
    "def push(stack_number, value):\n",
    "    if stack_pointer[stack_number] == 9:\n",
    "        print(\"stack overflow\")\n",
    "    else:\n",
    "        stack_pointer[stack_number]+=1\n",
    "        stack[stack_number][stack_pointer[stack_number]] = value\n",
    "\n",
    "def pop(stack_number):\n",
    "    if stack_pointer[stack_number] == -1:\n",
    "        print(\"There is no value\")\n",
    "        return None\n",
    "    else:\n",
    "        pop_value = stack[stack_number][stack_pointer[stack_number]]\n",
    "        stack[stack_number][stack_pointer[stack_number]] = 0\n",
    "        stack_pointer[stack_number]-=1\n",
    "        return pop_value\n",
    "    \n",
    "print(stack)"
   ]
  },
  {
   "cell_type": "code",
   "execution_count": 2,
   "metadata": {},
   "outputs": [
    {
     "name": "stdout",
     "output_type": "stream",
     "text": [
      "There is no value\n",
      "[[0, 0, 0, 0, 0, 0, 0, 0, 0, 0], [7, 0, 0, 0, 0, 0, 0, 0, 0, 0], [3, 5, 0, 0, 0, 0, 0, 0, 0, 0]]\n",
      "5\n",
      "3\n",
      "[[0, 0, 0, 0, 0, 0, 0, 0, 0, 0], [7, 0, 0, 0, 0, 0, 0, 0, 0, 0], [0, 0, 0, 0, 0, 0, 0, 0, 0, 0]]\n"
     ]
    }
   ],
   "source": [
    "push(2, 3)\n",
    "push(2, 5)\n",
    "push(1, 7)\n",
    "pop(0)\n",
    "print(stack)\n",
    "print(pop(2))\n",
    "print(pop(2))\n",
    "print(stack)"
   ]
  },
  {
   "cell_type": "code",
   "execution_count": null,
   "metadata": {},
   "outputs": [],
   "source": []
  }
 ],
 "metadata": {
  "kernelspec": {
   "display_name": "Python 3",
   "language": "python",
   "name": "python3"
  },
  "language_info": {
   "codemirror_mode": {
    "name": "ipython",
    "version": 3
   },
   "file_extension": ".py",
   "mimetype": "text/x-python",
   "name": "python",
   "nbconvert_exporter": "python",
   "pygments_lexer": "ipython3",
   "version": "3.8.5"
  }
 },
 "nbformat": 4,
 "nbformat_minor": 4
}
