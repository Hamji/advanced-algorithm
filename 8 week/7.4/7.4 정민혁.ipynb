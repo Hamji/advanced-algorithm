{
 "cells": [
  {
   "cell_type": "code",
   "execution_count": 1,
   "metadata": {},
   "outputs": [],
   "source": [
    "#정수 곱셈, 뺄셈, 나눗셈을 구현하는 메소드를 작성하라.\n",
    "#더하기 연산자만 사용하라.\n",
    "\n",
    "def sum_(a, b):\n",
    "    return a+b\n",
    "\n",
    "def sub_(a, b):\n",
    "    return a+~b+1\n",
    "\n",
    "def mul_(a, b):\n",
    "    for i in range(b): a=a+a\n",
    "    return a\n",
    "    \n",
    "def div_(a, b):\n",
    "    i=0\n",
    "    while True:\n",
    "        a=a+~b+1\n",
    "        if(a>0):\n",
    "            i+=1\n",
    "        else:\n",
    "            break\n",
    "    return i\n",
    "    "
   ]
  },
  {
   "cell_type": "code",
   "execution_count": 2,
   "metadata": {},
   "outputs": [
    {
     "name": "stdout",
     "output_type": "stream",
     "text": [
      "11\n",
      "-1\n",
      "320\n",
      "8\n"
     ]
    }
   ],
   "source": [
    "print(sum_(5, 6))\n",
    "\n",
    "print(sub_(5, 6))\n",
    "\n",
    "print(mul_(5, 6))\n",
    "\n",
    "print(div_(50, 6))"
   ]
  }
 ],
 "metadata": {
  "kernelspec": {
   "display_name": "Python 3",
   "language": "python",
   "name": "python3"
  },
  "language_info": {
   "codemirror_mode": {
    "name": "ipython",
    "version": 3
   },
   "file_extension": ".py",
   "mimetype": "text/x-python",
   "name": "python",
   "nbconvert_exporter": "python",
   "pygments_lexer": "ipython3",
   "version": "3.8.5"
  }
 },
 "nbformat": 4,
 "nbformat_minor": 4
}
